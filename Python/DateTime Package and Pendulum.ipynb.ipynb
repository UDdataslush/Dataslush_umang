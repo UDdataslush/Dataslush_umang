{
  "nbformat": 4,
  "nbformat_minor": 0,
  "metadata": {
    "colab": {
      "provenance": []
    },
    "kernelspec": {
      "name": "python3",
      "display_name": "Python 3"
    },
    "language_info": {
      "name": "python"
    }
  },
  "cells": [
    {
      "cell_type": "code",
      "execution_count": 2,
      "metadata": {
        "colab": {
          "base_uri": "https://localhost:8080/"
        },
        "id": "IP-Z_CT6SBCA",
        "outputId": "3b87c3cb-d465-452a-8f88-efa3d1c9d9e5"
      },
      "outputs": [
        {
          "output_type": "stream",
          "name": "stdout",
          "text": [
            "Requirement already satisfied: pendulum in /usr/local/lib/python3.10/dist-packages (3.0.0)\n",
            "Requirement already satisfied: python-dateutil>=2.6 in /usr/local/lib/python3.10/dist-packages (from pendulum) (2.8.2)\n",
            "Requirement already satisfied: tzdata>=2020.1 in /usr/local/lib/python3.10/dist-packages (from pendulum) (2024.2)\n",
            "Requirement already satisfied: time-machine>=2.6.0 in /usr/local/lib/python3.10/dist-packages (from pendulum) (2.16.0)\n",
            "Requirement already satisfied: six>=1.5 in /usr/local/lib/python3.10/dist-packages (from python-dateutil>=2.6->pendulum) (1.17.0)\n",
            "Current time (datetime): 2025-01-06 06:27:13.551873\n",
            "Current time (pendulum): 2025-01-06 06:27:13.553893+00:00\n",
            "Parsed datetime (datetime): 2025-01-01 15:30:00\n",
            "Parsed datetime (pendulum): 2025-01-01 15:30:00+00:00\n",
            "Formatted datetime (datetime): 01/01/2025 03:30 PM\n",
            "Formatted datetime (pendulum): 01-01-2025 15:30:00\n",
            "UTC time (datetime): 2025-01-06 06:27:13.555654\n",
            "UTC time (pendulum): 2025-01-06 06:27:13.555789+00:00\n",
            "New York time (pendulum): 2025-01-06 01:27:13.555789-05:00\n",
            "One week later (datetime): 2025-01-13 06:27:13.551873\n",
            "One week later (pendulum): 2025-01-13 06:27:13.553893+00:00\n",
            "Difference (datetime): 9 days\n",
            "Difference (pendulum): 9 days\n"
          ]
        }
      ],
      "source": [
        "from datetime import datetime, timedelta\n",
        "!pip install pendulum\n",
        "import pendulum\n",
        "\n",
        "\n",
        "\n",
        "\n",
        "# 1. Creating datetime objects\n",
        "# Using datetime\n",
        "current_time = datetime.now()\n",
        "print(f\"Current time (datetime): {current_time}\")\n",
        "\n",
        "# Using pendulum\n",
        "current_time_pendulum = pendulum.now()\n",
        "print(f\"Current time (pendulum): {current_time_pendulum}\")\n",
        "\n",
        "# 2. Parsing strings into datetime objects\n",
        "date_string = \"2025-01-01 15:30:00\"\n",
        "parsed_datetime = datetime.strptime(date_string, \"%Y-%m-%d %H:%M:%S\")\n",
        "print(f\"Parsed datetime (datetime): {parsed_datetime}\")\n",
        "\n",
        "parsed_pendulum = pendulum.parse(date_string)\n",
        "print(f\"Parsed datetime (pendulum): {parsed_pendulum}\")\n",
        "\n",
        "# 3. Formatting datetime objects into strings\n",
        "formatted_datetime = parsed_datetime.strftime(\"%d/%m/%Y %I:%M %p\")\n",
        "print(f\"Formatted datetime (datetime): {formatted_datetime}\")\n",
        "\n",
        "formatted_pendulum = parsed_pendulum.format(\"DD-MM-YYYY HH:mm:ss\")\n",
        "print(f\"Formatted datetime (pendulum): {formatted_pendulum}\")\n",
        "\n",
        "# 4. Time zone handling\n",
        "# Using datetime\n",
        "utc_now = datetime.utcnow()\n",
        "print(f\"UTC time (datetime): {utc_now}\")\n",
        "\n",
        "# Using pendulum\n",
        "utc_now_pendulum = pendulum.now(\"UTC\")\n",
        "print(f\"UTC time (pendulum): {utc_now_pendulum}\")\n",
        "\n",
        "# Converting to a different time zone\n",
        "new_york_time = utc_now_pendulum.in_tz(\"America/New_York\")\n",
        "print(f\"New York time (pendulum): {new_york_time}\")\n",
        "\n",
        "# 5. Performing datetime arithmetic\n",
        "# Using datetime\n",
        "one_week_later = current_time + timedelta(weeks=1)\n",
        "print(f\"One week later (datetime): {one_week_later}\")\n",
        "\n",
        "# Using pendulum\n",
        "one_week_later_pendulum = current_time_pendulum.add(weeks=1)\n",
        "print(f\"One week later (pendulum): {one_week_later_pendulum}\")\n",
        "\n",
        "# Calculating the difference between two dates\n",
        "start_date = datetime(2025, 1, 1)\n",
        "end_date = datetime(2025, 1, 10)\n",
        "difference = end_date - start_date\n",
        "print(f\"Difference (datetime): {difference.days} days\")\n",
        "\n",
        "# Using pendulum\n",
        "start_date_pendulum = pendulum.datetime(2025, 1, 1)\n",
        "end_date_pendulum = pendulum.datetime(2025, 1, 10)\n",
        "difference_pendulum = end_date_pendulum - start_date_pendulum\n",
        "print(f\"Difference (pendulum): {difference_pendulum.in_days()} days\")\n"
      ]
    }
  ]
}