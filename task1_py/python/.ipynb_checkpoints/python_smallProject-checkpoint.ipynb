{
  "nbformat": 4,
  "nbformat_minor": 0,
  "metadata": {
    "colab": {
      "provenance": []
    },
    "kernelspec": {
      "name": "python3",
      "display_name": "Python 3"
    },
    "language_info": {
      "name": "python"
    }
  },
  "cells": [
    {
      "cell_type": "code",
      "execution_count": 1,
      "metadata": {
        "colab": {
          "base_uri": "https://localhost:8080/"
        },
        "id": "KXCxqyLI5mlU",
        "outputId": "9965d333-f61e-434c-c862-699febc47624"
      },
      "outputs": [
        {
          "output_type": "stream",
          "name": "stdout",
          "text": [
            "Enter the URL of the website to scrape weather data from: nadiad\n",
            "Enter the start date (YYYY-MM-DD) for filtering (or leave blank): 2000-05-12\n",
            "Enter the end date (YYYY-MM-DD) for filtering (or leave blank): 2000-05-10\n",
            "Enter the output file name (e.g., output.json or output.csv): json\n",
            "Enter the output format (json or csv): json\n",
            "Fetching weather data...\n",
            "Error: Invalid URL 'nadiad': No scheme supplied. Perhaps you meant https://nadiad?\n"
          ]
        }
      ],
      "source": [
        "import requests\n",
        "from bs4 import BeautifulSoup\n",
        "import json\n",
        "import csv\n",
        "from datetime import datetime\n",
        "\n",
        "def fetch_weather_data(url):\n",
        "    \"\"\"Fetch weather data from the specified URL.\"\"\"\n",
        "    response = requests.get(url)\n",
        "    if response.status_code != 200:\n",
        "        raise Exception(f\"Failed to fetch data: HTTP {response.status_code}\")\n",
        "\n",
        "    soup = BeautifulSoup(response.content, 'html.parser')\n",
        "    # This part should be customized based on the website structure\n",
        "    weather_data = []\n",
        "    for row in soup.select('table.weather-table tr'):  # Adjust selector as per site\n",
        "        cells = row.find_all('td')\n",
        "        if len(cells) >= 2:  # Assuming at least two columns for date and temperature\n",
        "            date_str = cells[0].get_text(strip=True)\n",
        "            temp = cells[1].get_text(strip=True)\n",
        "            try:\n",
        "                date = datetime.strptime(date_str, \"%Y-%m-%d\")\n",
        "                weather_data.append({\"date\": date_str, \"temperature\": temp})\n",
        "            except ValueError:\n",
        "                continue  # Skip rows with invalid date formats\n",
        "\n",
        "    return weather_data\n",
        "\n",
        "def filter_weather_data(data, start_date=None, end_date=None):\n",
        "    \"\"\"Filter weather data by date range.\"\"\"\n",
        "    if start_date:\n",
        "        start_date = datetime.strptime(start_date, \"%Y-%m-%d\")\n",
        "    if end_date:\n",
        "        end_date = datetime.strptime(end_date, \"%Y-%m-%d\")\n",
        "\n",
        "    filtered_data = []\n",
        "    for entry in data:\n",
        "        entry_date = datetime.strptime(entry[\"date\"], \"%Y-%m-%d\")\n",
        "        if (not start_date or entry_date >= start_date) and (not end_date or entry_date <= end_date):\n",
        "            filtered_data.append(entry)\n",
        "\n",
        "    return filtered_data\n",
        "\n",
        "def save_to_json(data, output_file):\n",
        "    \"\"\"Save weather data to a JSON file.\"\"\"\n",
        "    with open(output_file, 'w') as f:\n",
        "        json.dump(data, f, indent=4)\n",
        "\n",
        "def save_to_csv(data, output_file):\n",
        "    \"\"\"Save weather data to a CSV file.\"\"\"\n",
        "    with open(output_file, 'w', newline='') as f:\n",
        "        writer = csv.DictWriter(f, fieldnames=[\"date\", \"temperature\"])\n",
        "        writer.writeheader()\n",
        "        writer.writerows(data)\n",
        "\n",
        "# Interactive inputs for Colab\n",
        "url = input(\"Enter the URL of the website to scrape weather data from: \")\n",
        "start_date = input(\"Enter the start date (YYYY-MM-DD) for filtering (or leave blank): \")\n",
        "end_date = input(\"Enter the end date (YYYY-MM-DD) for filtering (or leave blank): \")\n",
        "output_file = input(\"Enter the output file name (e.g., output.json or output.csv): \")\n",
        "output_format = input(\"Enter the output format (json or csv): \").lower()\n",
        "\n",
        "try:\n",
        "    print(\"Fetching weather data...\")\n",
        "    data = fetch_weather_data(url)\n",
        "    print(f\"Fetched {len(data)} records.\")\n",
        "\n",
        "    if start_date or end_date:\n",
        "        print(\"Filtering weather data...\")\n",
        "        data = filter_weather_data(data, start_date, end_date)\n",
        "        print(f\"Filtered to {len(data)} records.\")\n",
        "\n",
        "    if output_format == \"json\":\n",
        "        print(\"Saving data to JSON...\")\n",
        "        save_to_json(data, output_file)\n",
        "    elif output_format == \"csv\":\n",
        "        print(\"Saving data to CSV...\")\n",
        "        save_to_csv(data, output_file)\n",
        "\n",
        "    print(f\"Data saved to {output_file}\")\n",
        "except Exception as e:\n",
        "    print(f\"Error: {e}\")\n"
      ]
    },
    {
      "cell_type": "code",
      "source": [],
      "metadata": {
        "id": "2mMwYsOR9gca"
      },
      "execution_count": null,
      "outputs": []
    }
  ]
}